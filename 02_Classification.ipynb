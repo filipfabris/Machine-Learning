{
  "nbformat": 4,
  "nbformat_minor": 0,
  "metadata": {
    "colab": {
      "provenance": []
    },
    "kernelspec": {
      "name": "python3",
      "display_name": "Python 3"
    }
  },
  "cells": [
    {
      "cell_type": "markdown",
      "metadata": {
        "id": "DCzr7kkTJ_q-"
      },
      "source": [
        "# Classification\n",
        "\n",
        "From lesson we learned that 3 approaches are possible for classification:\n",
        "- **Discriminant function approach**:\n",
        "  + model a *function* that maps inputs to classes\n",
        "  + fit model to data\n",
        "- **Probabilistic discriminative approach**:\n",
        "  + model a *conditional probability* $P(C_k | x)$\n",
        "  + fit model to data\n",
        "- **Probabilistic generative approach**:\n",
        "  + model *likelihood* $P(x | C_k)$ and *prior* $P(C_k)$\n",
        "  + fit models to data\n",
        "  + infer posterior $P(C_k | x) = \\frac{P(C_k)P(x|C_k)}{P(x)}$"
      ]
    },
    {
      "cell_type": "code",
      "source": [],
      "metadata": {
        "id": "DZH-HCQ6zJUD"
      },
      "execution_count": null,
      "outputs": []
    },
    {
      "cell_type": "markdown",
      "metadata": {
        "id": "eM2M4e0VfjIv"
      },
      "source": [
        "## Iris dataset for classification\n",
        "\n",
        "In this session, we take into account again the Iris dataset.\n",
        "This time we are more interested in the discrimination of the sample class, i.e., either Setosa, Versicolor or Virginica."
      ]
    },
    {
      "cell_type": "code",
      "metadata": {
        "id": "-1CPHrt2JyRW"
      },
      "source": [
        "import pandas as pd\n",
        "import numpy as np\n",
        "import matplotlib.pyplot as plt\n",
        "\n",
        "url = \"https://archive.ics.uci.edu/ml/machine-learning-databases/iris/iris.data\"\n",
        "names = ['sepal-length', 'sepal-width', 'petal-length', 'petal-width', 'class']\n",
        "dataset = pd.read_csv(url, names=names)"
      ],
      "execution_count": null,
      "outputs": []
    },
    {
      "cell_type": "code",
      "metadata": {
        "id": "55uHot9dGff5"
      },
      "source": [
        "dataset.head()"
      ],
      "execution_count": null,
      "outputs": []
    },
    {
      "cell_type": "markdown",
      "source": [
        "Visualize the set of values of the \"class\" column:"
      ],
      "metadata": {
        "id": "2nA8bLvCxsNY"
      }
    },
    {
      "cell_type": "code",
      "metadata": {
        "id": "rF8HqWp7G1U6",
        "colab": {
          "base_uri": "https://localhost:8080/"
        },
        "outputId": "50e67936-ad93-4d0d-8734-e8f8989d5dda"
      },
      "source": [
        "dataset['class'].unique()"
      ],
      "execution_count": null,
      "outputs": [
        {
          "output_type": "execute_result",
          "data": {
            "text/plain": [
              "array(['Iris-setosa', 'Iris-versicolor', 'Iris-virginica'], dtype=object)"
            ]
          },
          "metadata": {},
          "execution_count": 11
        }
      ]
    },
    {
      "cell_type": "markdown",
      "metadata": {
        "id": "Ris4-X3Ff_xn"
      },
      "source": [
        "We do not have any metric over the space of the classes, i.e., it is not possible to order them. In this case one **could not** consider regression techniques.\n",
        "\n",
        "Let us start with discriminating between Setosa and non-Setosa flowers according to the sepal length and width."
      ]
    },
    {
      "cell_type": "code",
      "metadata": {
        "id": "ki2ij-POGjWZ"
      },
      "source": [
        "from scipy.stats import zscore\n",
        "from sklearn.utils import shuffle\n",
        "\n",
        "X = zscore(dataset[['sepal-length', 'sepal-width']].values) #Normalize the input\n",
        "t = (dataset['class'].values == 'Iris-setosa') #Target is True (setosa) or False (non-setosa)\n",
        "X, t = shuffle(X, t, random_state=0) # this time we have to do it! (we will use sequential algorithms)"
      ],
      "execution_count": null,
      "outputs": []
    },
    {
      "cell_type": "code",
      "metadata": {
        "id": "mVGHFTQMJE1b"
      },
      "source": [
        "setosa = X[t]\n",
        "not_setosa = X[~t]"
      ],
      "execution_count": null,
      "outputs": []
    },
    {
      "cell_type": "code",
      "metadata": {
        "id": "83k2e-uQJpqt"
      },
      "source": [
        "plt.figure(figsize=(12,7))\n",
        "plt.scatter(setosa[:, 0], setosa[:, 1], label='setosa')\n",
        "plt.scatter(not_setosa[:, 0], not_setosa[:, 1], label='not setosa', marker='x')\n",
        "\n",
        "plt.xlabel('x1')\n",
        "plt.ylabel('x2')\n",
        "plt.grid()\n",
        "plt.legend()\n",
        "plt.show()"
      ],
      "execution_count": null,
      "outputs": []
    },
    {
      "cell_type": "markdown",
      "metadata": {
        "id": "BEh5RxiOQsnv"
      },
      "source": [
        "## Discriminant Function Approach: the Perceptron\n",
        "\n",
        "At first, let us perform a classification with a perceptron classifier:\n",
        "- Hypothesis space: $y(\\mathbf{x}_n) = sgn(\\mathbf{w}^T \\mathbf{x}_n) = sgn(w_0 + x_{n1} w_1 + x_{n2} w_2)$;\n",
        "- Loss measure: Distance of misclassified points from the separating surface $L_P(\\mathbf{w}) = -\\sum_{n \\in \\mathcal{M}} \\mathbf{w}^T \\mathbf{x}_n C_n$;\n",
        "- Optimization method: Online Gradient Descent;\n",
        "\n",
        "where $sgn(\\cdot)$ is the sign function."
      ]
    },
    {
      "cell_type": "code",
      "metadata": {
        "id": "NThT3ISOLiE9"
      },
      "source": [
        "from sklearn.linear_model import Perceptron\n",
        "perc_classifier = Perceptron(shuffle=False, random_state=0)\n",
        "perc_classifier.fit(X, t)"
      ],
      "execution_count": null,
      "outputs": []
    },
    {
      "cell_type": "code",
      "source": [
        "perc_classifier.coef_"
      ],
      "metadata": {
        "id": "V64SgUTJ0rGA"
      },
      "execution_count": null,
      "outputs": []
    },
    {
      "cell_type": "code",
      "metadata": {
        "id": "-b4WRY3BTUiP"
      },
      "source": [
        "plt.figure(figsize=(12,7))\n",
        "plt.scatter(setosa[:, 0], setosa[:, 1], label='setosa')\n",
        "plt.scatter(not_setosa[:, 0], not_setosa[:, 1], label='not setosa', marker='x')\n",
        "\n",
        "# Plot the DS\n",
        "\n",
        "coef = perc_classifier.coef_.flatten() # weights\n",
        "w0 = perc_classifier.intercept_ # bias\n",
        "w1 = coef[0]\n",
        "w2 = coef[1]\n",
        "\n",
        "step = 100\n",
        "ds_x1 = np.linspace(X[:,0].min(), X[:,0].max(), step)\n",
        "# Compute x2 componenent given some x1:\n",
        "# w^T x + x0 = 0 -> w0 + w1 * x1 + w2 * x2 = 0 -> x2 = - (w0 + w1*x1) / w2\n",
        "ds_x2 = [-(w0 + w1*x1) / w2 for x1 in ds_x1]\n",
        "plt.plot(ds_x1, ds_x2, label='DS')\n",
        "\n",
        "plt.xlabel('x1')\n",
        "plt.ylabel('x2')\n",
        "plt.grid()\n",
        "plt.legend()\n",
        "plt.show()"
      ],
      "execution_count": null,
      "outputs": []
    },
    {
      "cell_type": "markdown",
      "metadata": {
        "id": "nRAtdohEMcpH"
      },
      "source": [
        "### Evaluating Classification\n",
        "\n",
        "To evaluate the performances of the chosen method, we need to compute the *confusion matrix* which tells us the number of points which have been correctly classified and those which have been misclassified.\n",
        "\n",
        " <table style=\"width:100%\">\n",
        "  <tr>\n",
        "    <th>\n",
        "    <center> <img src='https://upload.wikimedia.org/wikipedia/commons/2/26/Precisionrecall.svg' width=300 /> </center>\n",
        "    </th>\n",
        "    <th>\\begin{array}{|l|l|l|}\n",
        "\t\\hline\n",
        "\t&\\text{Actual Class: 1}\t& \\text{Actual Class: 0}\\\\\n",
        "\t\\hline\n",
        "\t\\text{Predicted Class: 1}\t& tp\t& fp\\\\\n",
        "\t\\hline\n",
        "\t\\text{Predicted Class: 0}\t& fn\t& tn\\\\\n",
        "\t\\hline\n",
        "\\end{array}\n",
        "</th>\n",
        "  </tr>\n",
        "\n",
        "</table>\n",
        "\n",
        "\n",
        "\n",
        "\n",
        "Based on this matrix we can evaluate:\n",
        "- Accuracy: $Acc = \\frac{tp + tn}{N}$ fraction of the samples correctly classified in the dataset;\n",
        "- Precision $Pre = \\frac{tp}{tp + fp}$ fraction of samples correctly classified in the positive class among the ones classified in the positive class;\n",
        "- Recall: $Rec = \\frac{tp}{tp + fn}$ fraction of samples correctly classified in the positive class among the ones belonging to the positive class;\n",
        "- F1 score: $F1 = \\frac{2 \\cdot Pre \\cdot Rec}{Pre + Rec}$ harmonic mean of the precision and recall;\n",
        "\n",
        "where $tn$ is the number of true negatives, $fp$ is the number of false positives, $fn$ are the false negatives and $tn$ are the true negatives.\n",
        "Equivalently, we can look at the meaning of Precision and Recall by looking at the figure above.\n",
        "\n",
        "Remember that:\n",
        "- The higher these figures of merits the better the algorithm is performing.\n",
        "- These performance measures are **not** symmetric, but depends on the class we selected as positive.\n",
        "- Depending on the **application** one might switch the classes to have measures which better evaluate the predictive power of the classifier."
      ]
    },
    {
      "cell_type": "code",
      "metadata": {
        "id": "zWrRVXzJMt8T"
      },
      "source": [
        "from sklearn.metrics import confusion_matrix, accuracy_score, precision_score, recall_score, f1_score"
      ],
      "execution_count": null,
      "outputs": []
    },
    {
      "cell_type": "code",
      "metadata": {
        "id": "IRZF9ggiunIA"
      },
      "source": [
        "t_pred = perc_classifier.predict(X)"
      ],
      "execution_count": null,
      "outputs": []
    },
    {
      "cell_type": "code",
      "metadata": {
        "id": "gSRXb5feN-d0"
      },
      "source": [
        "confusion_matrix(t, t_pred)"
      ],
      "execution_count": null,
      "outputs": []
    },
    {
      "cell_type": "code",
      "metadata": {
        "id": "qNV35vVKOGHX"
      },
      "source": [
        "accuracy_score(t, t_pred)"
      ],
      "execution_count": null,
      "outputs": []
    },
    {
      "cell_type": "code",
      "metadata": {
        "id": "oamGmN8tOGkc"
      },
      "source": [
        "precision_score(t, t_pred)"
      ],
      "execution_count": null,
      "outputs": []
    },
    {
      "cell_type": "code",
      "metadata": {
        "id": "DGTi55tQOOCr"
      },
      "source": [
        "recall_score(t, t_pred)"
      ],
      "execution_count": null,
      "outputs": []
    },
    {
      "cell_type": "code",
      "metadata": {
        "id": "s3lFrdxPOT7L",
        "colab": {
          "base_uri": "https://localhost:8080/",
          "height": 141
        },
        "outputId": "f227f5e6-11c3-4da8-cbaf-d92002adc399"
      },
      "source": [
        "f1_score(t, t_pred)"
      ],
      "execution_count": null,
      "outputs": [
        {
          "output_type": "error",
          "ename": "NameError",
          "evalue": "name 'f1_score' is not defined",
          "traceback": [
            "\u001b[0;31m---------------------------------------------------------------------------\u001b[0m",
            "\u001b[0;31mNameError\u001b[0m                                 Traceback (most recent call last)",
            "\u001b[0;32m<ipython-input-2-fe0c5dad7db7>\u001b[0m in \u001b[0;36m<cell line: 1>\u001b[0;34m()\u001b[0m\n\u001b[0;32m----> 1\u001b[0;31m \u001b[0mf1_score\u001b[0m\u001b[0;34m(\u001b[0m\u001b[0mt\u001b[0m\u001b[0;34m,\u001b[0m \u001b[0mt_pred\u001b[0m\u001b[0;34m)\u001b[0m\u001b[0;34m\u001b[0m\u001b[0;34m\u001b[0m\u001b[0m\n\u001b[0m",
            "\u001b[0;31mNameError\u001b[0m: name 'f1_score' is not defined"
          ]
        }
      ]
    },
    {
      "cell_type": "markdown",
      "metadata": {
        "id": "qNa7o0t9VrBp"
      },
      "source": [
        "### Implementing the Perceptron classifier"
      ]
    },
    {
      "cell_type": "code",
      "metadata": {
        "id": "njD0BxxNVnKi"
      },
      "source": [
        "w = np.ones(3)\n",
        "n_epochs = 10\n",
        "for epoch in range(n_epochs):\n",
        "  for i, (x_i, t_i) in enumerate(zip(X, t)):\n",
        "    # correct t_i to be in {-1, 1}\n",
        "    corr_t_i = 1 if t_i else -1\n",
        "    ext_x = np.concatenate([np.ones(1), x_i.flatten()])\n",
        "    if np.sign(w.dot(ext_x)) != corr_t_i:\n",
        "      w = w + ext_x * corr_t_i"
      ],
      "execution_count": null,
      "outputs": []
    },
    {
      "cell_type": "markdown",
      "metadata": {
        "id": "BEY8zlazg3Xf"
      },
      "source": [
        "Notice that this procedure will stop if the classes are linearly separable, while it does not stop if the two classes are overlapping.\n",
        "\n",
        "Moreover, we do not know how long the procedure will take to reach convergence.\n",
        "\n",
        "This makes impossible to distinguish between a procedure which is *slowly converging* to a *non-linearly separable* setting.\n"
      ]
    },
    {
      "cell_type": "code",
      "metadata": {
        "id": "YK-tBaibAu9T"
      },
      "source": [
        "# Since we would rewrite the same code, it is a good idea to write a function\n",
        "def plot_ds(X, w, step=100, label='DS'):\n",
        "  ds_x1 = np.linspace(X[:,0].min(), X[:,0].max(), step)\n",
        "  ds_x2 = [-(w[0] + w[1]*x1) / w[2] for x1 in ds_x1]\n",
        "  plt.plot(ds_x1, ds_x2, label=label)"
      ],
      "execution_count": null,
      "outputs": []
    },
    {
      "cell_type": "code",
      "metadata": {
        "id": "ENFrAY_-ctui"
      },
      "source": [
        "plt.figure(figsize=(12,7))\n",
        "plt.scatter(setosa[:, 0], setosa[:, 1], label='setosa')\n",
        "plt.scatter(not_setosa[:, 0], not_setosa[:, 1], label='not setosa', marker='x')\n",
        "\n",
        "# Implemented Perceptron\n",
        "plot_ds(X, w, label='Implemented Perceptron DS')\n",
        "\n",
        "# Sklearn Perceptron\n",
        "coef = perc_classifier.coef_.flatten() # weights\n",
        "w0 = perc_classifier.intercept_ # bias\n",
        "w0\n",
        "\n",
        "perc_w = np.array([w0.item(), coef[0], coef[1]])\n",
        "plot_ds(X, perc_w, label='Scikit-Learn Perceptron DS')\n",
        "\n",
        "plt.xlabel('x1')\n",
        "plt.ylabel('x2')\n",
        "plt.grid()\n",
        "plt.legend()\n",
        "plt.show()"
      ],
      "execution_count": null,
      "outputs": []
    },
    {
      "cell_type": "markdown",
      "metadata": {
        "id": "wxIFp1WbZGhI"
      },
      "source": [
        "## Probabilistic Discriminative Approach: Logistic Regression\n",
        "\n",
        "Let us change the methods for the classification task and use a Logistic regression classifier with two classes:\n",
        "- Hypothesis space: $y_n = y(x_n) = \\sigma(w_0 + x_{n1} w_1 + x_{n2} w_2)$;\n",
        "- Loss measure: Loglikelihood $L(\\mathbf{w}) = -\\sum_{n=1}^N  [C_n \\ln y_n + (1 - C_n) \\ln (1 - y_n)]$;\n",
        "- Optimization method: Gradient Descent;\n",
        "\n",
        "where the sigmoid function is defined as $\\sigma(x) = \\frac{1}{1 + e^{-x}}$."
      ]
    },
    {
      "cell_type": "code",
      "metadata": {
        "id": "oBKWho_Seb8Y",
        "colab": {
          "base_uri": "https://localhost:8080/",
          "height": 193
        },
        "outputId": "00793235-f271-490f-a635-4f067cc288d0"
      },
      "source": [
        "from sklearn.linear_model import LogisticRegression\n",
        "\n",
        "log_classifier = LogisticRegression(penalty=None) # default is penalty='l2', that is l2 regularization!\n",
        "log_classifier.fit(X, t)"
      ],
      "execution_count": null,
      "outputs": [
        {
          "output_type": "error",
          "ename": "NameError",
          "evalue": "name 'X' is not defined",
          "traceback": [
            "\u001b[0;31m---------------------------------------------------------------------------\u001b[0m",
            "\u001b[0;31mNameError\u001b[0m                                 Traceback (most recent call last)",
            "\u001b[0;32m<ipython-input-1-9edc5f0fced5>\u001b[0m in \u001b[0;36m<cell line: 4>\u001b[0;34m()\u001b[0m\n\u001b[1;32m      2\u001b[0m \u001b[0;34m\u001b[0m\u001b[0m\n\u001b[1;32m      3\u001b[0m \u001b[0mlog_classifier\u001b[0m \u001b[0;34m=\u001b[0m \u001b[0mLogisticRegression\u001b[0m\u001b[0;34m(\u001b[0m\u001b[0mpenalty\u001b[0m\u001b[0;34m=\u001b[0m\u001b[0;32mNone\u001b[0m\u001b[0;34m)\u001b[0m \u001b[0;31m# default is penalty='l2', that is l2 regularization!\u001b[0m\u001b[0;34m\u001b[0m\u001b[0;34m\u001b[0m\u001b[0m\n\u001b[0;32m----> 4\u001b[0;31m \u001b[0mlog_classifier\u001b[0m\u001b[0;34m.\u001b[0m\u001b[0mfit\u001b[0m\u001b[0;34m(\u001b[0m\u001b[0mX\u001b[0m\u001b[0;34m,\u001b[0m \u001b[0mt\u001b[0m\u001b[0;34m)\u001b[0m\u001b[0;34m\u001b[0m\u001b[0;34m\u001b[0m\u001b[0m\n\u001b[0m",
            "\u001b[0;31mNameError\u001b[0m: name 'X' is not defined"
          ]
        }
      ]
    },
    {
      "cell_type": "code",
      "metadata": {
        "id": "4yrxMxtKgwPo"
      },
      "source": [
        "# compare perceptron, by hand and logistic regression\n",
        "plt.figure(figsize=(12,7))\n",
        "plt.scatter(setosa[:, 0], setosa[:, 1], label='setosa')\n",
        "plt.scatter(not_setosa[:, 0], not_setosa[:, 1], label='not setosa', marker='x')\n",
        "\n",
        "# Implemented Perceptron\n",
        "plot_ds(X, w, label='Implemented Perceptron DS')\n",
        "\n",
        "# Sklearn Perceptron\n",
        "coef = perc_classifier.coef_.flatten() # weights\n",
        "w0 = perc_classifier.intercept_ # bias\n",
        "perc_w = np.array([w0.item(), coef[0], coef[1]])\n",
        "plot_ds(X, perc_w, label='Scikit-Learn Perceptron DS')\n",
        "\n",
        "# Sklearn Logistic Regression\n",
        "coef = log_classifier.coef_.flatten() # weights\n",
        "w0 = log_classifier.intercept_ # bias\n",
        "log_w = np.array([w0.item(), coef[0], coef[1]])\n",
        "plot_ds(X, log_w, label='Scikit-Learn Logistic Regression DS')\n",
        "\n",
        "plt.xlabel('x1')\n",
        "plt.ylabel('x2')\n",
        "plt.grid()\n",
        "plt.legend()\n",
        "plt.show()"
      ],
      "execution_count": null,
      "outputs": []
    },
    {
      "cell_type": "markdown",
      "metadata": {
        "id": "iC6B8SgI-fkw"
      },
      "source": [
        "If we perform the $logit(x) = \\log(\\frac{x}{1-x})$ transformation to the output we have:\n",
        "$$ logit(y_n) = w_0 + x_{n1} w_1 + x_{n2} w_2,$$\n",
        "and, thus, we have the same statistical characterization of the parameters $\\mathbf{w}$ as we had in the linear regression if we consider as output a specific transformation of the target, i.e., we can perform hypothesis testing on the significance of the parameters."
      ]
    },
    {
      "cell_type": "markdown",
      "metadata": {
        "id": "ngTEMbeezfCw"
      },
      "source": [
        "### Multiple Classes"
      ]
    },
    {
      "cell_type": "code",
      "metadata": {
        "id": "rcDUVnyRzmet"
      },
      "source": [
        "multi_t = dataset['class']\n",
        "multi_log_classifier = LogisticRegression()\n",
        "multi_log_classifier.fit(X, multi_t)"
      ],
      "execution_count": null,
      "outputs": []
    },
    {
      "cell_type": "markdown",
      "metadata": {
        "id": "Xa8I4Bl7ZTzA"
      },
      "source": [
        "## Probabilistic Generative Approach: Naive Bayes (Setosa vs non-Setosa)\n",
        "\n",
        "Generative models have the purpose of modeling the joint pdf of the couple input/output $p(C_k,\\mathbf{x})$, which allows us to generate also **new data** from what we learned.\n",
        "\n",
        "This is different from the probabilistic discriminative models, in which we are only interested in computing the probabilities that a given input is coming from a specific class $p(C_k | \\mathbf{x})$, which is not sufficient to produce new samples.\n",
        "\n",
        "Conversely, we will see how it is possible to generate new samples if we are provided with an approximation of the joint input/output distribution $p(C_k,\\mathbf{x})$.\n",
        "\n",
        "In this case, the Naive Bayes method considers the **naive assumption** that each input is conditionally (w.r.t. the class) independent from each other.\n",
        "If we consider the Bayes formula we have:\n",
        "\\begin{align*}\n",
        "\t& p(C_k | \\mathbf{x}) = \\frac{p(C_k) \\ p(\\mathbf{x} | C_k)}{p(\\mathbf{x})} \\\\\n",
        "\t& \\propto p(x_1, \\ldots, x_M, C_k)\\\\\n",
        "\t& = p(x_1 | x_2, \\ldots, x_M, C_k) p(x_2, \\ldots, x_M, C_k) \\\\\n",
        "\t& = p(x_1 | x_2, \\ldots, x_M, C_k) p(x_2 | x_3, \\ldots, x_M, C_k) p(x_3, \\ldots, x_n, C_k) \\\\\n",
        "\t& = p(x_1 \\vert x_2, \\ldots, x_M, C_k) \\ldots p(x_M | C_k) p(C_k) \\\\\n",
        "\t& = p(x_1 \\vert C_k) \\ldots p(x_M | C_k) p(C_k) \\\\\n",
        "\t& = p(C_k) \\prod_{j=1}^M p(x_j | C_k).\n",
        "\\end{align*}\n",
        "\n",
        "The decision function, which maximises the Maximum A Posteriori probability, is the following:\n",
        "\\begin{equation*}\n",
        "\ty(\\mathbf{x}) = \\arg \\max_k p(C_k) \\prod_{j=1}^M p(x_j | C_k),\n",
        "\\end{equation*}\n",
        "where as usual we do not consider the normalization factor $p(\\mathbf{x})$.\n",
        "\n",
        "In a specific case we have to define a prior distribution for the classes $p(C_k) \\ \\forall k$ and a distribution to compute the likelihood of the considered samples $p(x_j | C_k) \\ \\forall J, \\ \\forall k$.\n",
        "\n",
        "In the case of continuous variable one of the usual assumption is to use Gaussian distributions for each variable $p(x_j | C_k) = \\mathcal{N}(x_j;\\mu_{jk},\\sigma^2_{jk})$ and either a uniform prior $p(C_k) = \\frac{1}{K}$ or a multinomial prior based on the samples proportions $p(C_k) = \\frac{\\sum_{i=1}^N I \\{\\mathbf{x}_n \\in C_k \\}}{N}$, where $I\\{\\cdot\\}$ is the indicator function.\n",
        "\n",
        "The complete model of Naive Bayes is:\n",
        "- Hypothesis space: $y_n = y(x_n) = \\arg \\max_k p(C_k) \\prod_{j=1}^M p(x_j | C_k)$;\n",
        "- Loss measure: Log likelihood;\n",
        "- Optimization method: MLE.\n"
      ]
    },
    {
      "cell_type": "code",
      "metadata": {
        "id": "bqcCcgv_Z-ZL"
      },
      "source": [
        "from sklearn.naive_bayes import GaussianNB\n",
        "\n",
        "gnb_classifier = GaussianNB()\n",
        "gnb_classifier.fit(X, t)\n",
        "t_pred = gnb_classifier.predict(X)\n",
        "\n",
        "print(accuracy_score(t, t_pred))\n",
        "print(recall_score(t, t_pred))\n",
        "print(precision_score(t, t_pred))\n",
        "print(confusion_matrix(t, t_pred))"
      ],
      "execution_count": null,
      "outputs": []
    },
    {
      "cell_type": "markdown",
      "metadata": {
        "id": "GXthLrLUacdT"
      },
      "source": [
        "### Generate new data\n",
        "\n",
        "Using the estimated priors $p(C_k)$ and likelihoods $p(x_j | C_k) = \\mathcal{N}(x_j;\\mu_{jk},\\sigma^2_{jk})$ it is possible to generate new data.\n"
      ]
    },
    {
      "cell_type": "code",
      "metadata": {
        "id": "wg_P4DvTaS4C"
      },
      "source": [
        "N = 100\n",
        "\n",
        "new_samples = np.empty((N, 2))\n",
        "new_t = np.empty(N, dtype=bool)\n",
        "\n",
        "for i in range(N):\n",
        "  # Based on the class priors, we sample a class\n",
        "  class_ = np.random.choice([0,1], p=gnb_classifier.class_prior_)\n",
        "  new_t[i] = class_\n",
        "\n",
        "  # For each feature, we have a normal distribution of its likelihood given the class\n",
        "\n",
        "  # theta: mean of each feature per class (n_classes, n_features)\n",
        "  thetas = gnb_classifier.theta_[class_, :]\n",
        "\n",
        "  # sigma: variance of each feature per class (n_classes, n_features)\n",
        "  sigmas = gnb_classifier.var_[class_, :]\n",
        "\n",
        "  # sample x1\n",
        "  new_samples[i,0] = np.random.normal(thetas[0], sigmas[0], 1)\n",
        "  # sample x2\n",
        "  new_samples[i,1] = np.random.normal(thetas[1], sigmas[1], 1)\n",
        "\n",
        "# divide samples by class\n",
        "new_setosa = new_samples[new_t, :]\n",
        "new_not_setosa = new_samples[~new_t, :]"
      ],
      "execution_count": null,
      "outputs": []
    },
    {
      "cell_type": "code",
      "metadata": {
        "id": "AhgePJ8xFj9j"
      },
      "source": [
        "plt.figure(figsize=(12,7))\n",
        "\n",
        "# plot real samples\n",
        "plt.scatter(setosa[:, 0], setosa[:, 1], label='setosa', color='red')\n",
        "plt.scatter(not_setosa[:, 0], not_setosa[:, 1], label='not setosa', color='blue')\n",
        "\n",
        "# plot generated samples\n",
        "plt.scatter(new_setosa[:, 0], new_setosa[:, 1], label='new, setosa', color='red', marker='x', alpha=0.3)\n",
        "plt.scatter(new_not_setosa[:, 0], new_not_setosa[:, 1], label='new, not setosa', color='blue', marker='x', alpha=0.3)\n",
        "\n",
        "plt.xlabel('x1')\n",
        "plt.ylabel('x2')\n",
        "plt.grid()\n",
        "plt.legend()\n",
        "plt.show()"
      ],
      "execution_count": null,
      "outputs": []
    },
    {
      "cell_type": "markdown",
      "metadata": {
        "id": "rAdrDasEPmOo"
      },
      "source": [
        "\n",
        "Notice that the Naive Bayes is **not** a Bayesian method.\n",
        "\n",
        "Indeed, the priors we compute are estimated from data, and not updated using likelihoods.\n",
        "\n",
        "This makes Naive Bayes a method which uses the Bayes theorem to model the independence among the input, given the classes."
      ]
    },
    {
      "cell_type": "markdown",
      "metadata": {
        "id": "C0hL69BX0AOJ"
      },
      "source": [
        "# Homework"
      ]
    },
    {
      "cell_type": "markdown",
      "metadata": {
        "id": "_1JemVH-86SN"
      },
      "source": [
        "## Implementing Logistic Regression\n",
        "\n",
        "Implement the learning algorithm for the logistic regression on the Iris dataset by relying on the batch gradient descent optimization.\n",
        "\n",
        "In which situation the use of this optimization algorithm is a good idea?"
      ]
    },
    {
      "cell_type": "code",
      "metadata": {
        "id": "noqAg0ZA85sh"
      },
      "source": [
        "from scipy.stats import zscore\n",
        "from sklearn.utils import shuffle\n",
        "\n",
        "X = zscore(dataset[['sepal-length', 'sepal-width']].values)\n",
        "t = dataset['class'].values == 'Iris-setosa'\n",
        "X, t = shuffle(X, t, random_state=0) # this time we have to do it!\n",
        "\n",
        "### WRITE YOUR CODE HERE ###\n"
      ],
      "execution_count": null,
      "outputs": []
    },
    {
      "cell_type": "markdown",
      "metadata": {
        "id": "KyZpgCzc9Xzx"
      },
      "source": [
        "## Classifying molluscs - Part 1\n",
        "\n",
        "Have you ever dreamt of becoming a marine biologist?\n",
        "\n",
        "<img src='https://drive.google.com/uc?id=1HWK914cQIUokpZooG6PrgYbwtSKOQdoi' width=300/>  \n",
        "\n",
        "Now, you can (almost) realize your dream by classifying molluscs ([abalones](https://en.wikipedia.org/wiki/Abalone)) with the [Abalone dataset](http://archive.ics.uci.edu/ml/datasets/abalone)!\n",
        "\n",
        "Train a **perceptron** which uses the Length and Height of the shell to predict if an Abalone is *Male* or *Female* (remove the infants from the dataset analysed).\n"
      ]
    },
    {
      "cell_type": "code",
      "metadata": {
        "id": "4nkKhbLBDRFv"
      },
      "source": [
        "abalone_df = pd.read_csv('http://archive.ics.uci.edu/ml/machine-learning-databases/abalone/abalone.data',\n",
        "                         names=['Sex', 'Length', 'Diameter', 'Height', 'Whole weight', 'Shucked weight', 'Viscera weight', 'Shell weight', 'Ring'])\n",
        "\n",
        "### WRITE YOUR CODE HERE ###"
      ],
      "execution_count": null,
      "outputs": []
    },
    {
      "cell_type": "markdown",
      "metadata": {
        "id": "YsHikwmzE7gM"
      },
      "source": [
        "## Classifying molluscs - Part 2\n",
        "\n",
        "Train a **logistic regression** which uses the Length and Height of the shell to predict if an Abalone is *Male* or *Female* (remove the infants from the dataset analysed).\n",
        "\n",
        "Plot the separating hyperplane obtained by the logistic regression."
      ]
    },
    {
      "cell_type": "code",
      "metadata": {
        "id": "QKyJVEjaFaTw"
      },
      "source": [
        "### WRITE YOUR CODE HERE ###"
      ],
      "execution_count": null,
      "outputs": []
    },
    {
      "cell_type": "markdown",
      "metadata": {
        "id": "3FgCNs64SezR"
      },
      "source": [
        "## Find the error\n",
        "- Describe the process and purpose of what is implemented in this snippet.\n",
        "\n",
        "- Tell if the method is sound or if it is necessary to modify the procedure.\n",
        "\n",
        "- After fixing the error, try to evaluate the performance: is it the method sound? Can you still find some problem?\n",
        "\n",
        "\n"
      ]
    },
    {
      "cell_type": "code",
      "metadata": {
        "id": "jIzZb0y5JSOa"
      },
      "source": [
        "from sklearn import linear_model\n",
        "\n",
        "# Load iris dataset\n",
        "X = dataset['sepal-length'].values\n",
        "t = dataset['class'].values == 'Iris-setosa'\n",
        "X, t = shuffle(X, t, random_state=0) # this time we have to do it!\n",
        "\n",
        "# Select 2 set of features\n",
        "phi = zscore(np.array([X, X**2]).T)\n",
        "X = zscore(X).reshape(-1, 1)\n",
        "\n",
        "# fit a regression\n",
        "lin_model = linear_model.LinearRegression()\n",
        "lin_model.fit(X, t)\n",
        "lin_pred = lin_model.predict(X) > 0.5\n",
        "\n",
        "# fit a regression with a quadratic feature\n",
        "qua_model = linear_model.LinearRegression()\n",
        "qua_model.fit(phi, t)\n",
        "qua_pred = qua_model.predict(phi) > 0.5\n",
        "\n",
        "n = len(dataset)\n",
        "\n",
        "# Compute the adjusted R2\n",
        "m = X.shape[1] + 1\n",
        "lin_R2 = accuracy_score(t, lin_pred)\n",
        "lin_adj_R2 = 1-(1-lin_R2)*(n-1)/(n-m)\n",
        "\n",
        "# Compute the adjusted R2\n",
        "m = X.shape[1] + 1\n",
        "qua_R2 = accuracy_score(t, qua_pred)\n",
        "qua_adj_R2 = 1-(1-qua_R2)*(n-1)/(n-m)\n",
        "\n",
        "if qua_adj_R2 > lin_adj_R2:\n",
        "  t_pred = lin_pred\n",
        "else:\n",
        "  t_pred = qua_pred"
      ],
      "execution_count": null,
      "outputs": []
    }
  ]
}